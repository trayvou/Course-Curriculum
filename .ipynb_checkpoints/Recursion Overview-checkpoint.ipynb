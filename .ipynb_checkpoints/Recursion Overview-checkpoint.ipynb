{
 "cells": [
  {
   "cell_type": "markdown",
   "metadata": {},
   "source": [
    "# Recursion\n",
    "\n",
    "In this lecture we will go over an overview of recursion, by the end of this lecture we will have covered the following:\n",
    "\n",
    "* Understanding what recursion is\n",
    "* How to implement recursion\n",
    "* Comprehend the 3 rules of recursion\n",
    "\n",
    "Before you begin this lecture, if you have never heard of recursion before, please view this quick introduction by [Harvard University](https://www.youtube.com/watch?v=t4MSwiqfLaY)."
   ]
  },
  {
   "cell_type": "markdown",
   "metadata": {},
   "source": [
    "## Definition of Recursion\n",
    "\n",
    "**Recursion** allows us to solve problems by reducing down a problem into a simpler version of the problem again and again until you reduce the problem to amuch simpler case. This final reduction is called the *base case*.\n",
    "\n",
    "This strategy is usually implemented by having a function that calls itself. **Recursion** allows solutions to problems that would be difficult to solve through normal methods.\n",
    "\n",
    "The best way to get a grasp of recursion is to look at some classic examples. here we will explore three example problems of recursion: Summing a list, Calculating Factorials, and calculating a Fibonacci Sequence."
   ]
  },
  {
   "cell_type": "markdown",
   "metadata": {},
   "source": [
    "### Example 1: Recursion to Sum a List\n",
    "\n",
    "Imagine we needt to take the sum of a list of numbers: [1,2,3,4,5,6,7,8,9,10]. How would you write a function to do this? In the most basic function, we could write a for loop to iterate over every item of that list and add it to a running sum. For example:"
   ]
  },
  {
   "cell_type": "code",
   "execution_count": 1,
   "metadata": {
    "collapsed": true
   },
   "outputs": [],
   "source": [
    "def my_sum(num_list):\n",
    "    '''Takes in list of numbers, outputs sum of the numbers in list'''\n",
    "    # Start sum at zero\n",
    "    output_sum = 0\n",
    "    \n",
    "    # Iterate over list\n",
    "    for num in num_list:\n",
    "        output_sum = output_sum + num\n",
    "    \n",
    "    return output_sum"
   ]
  },
  {
   "cell_type": "code",
   "execution_count": 3,
   "metadata": {
    "collapsed": false
   },
   "outputs": [
    {
     "data": {
      "text/plain": [
       "55"
      ]
     },
     "execution_count": 3,
     "metadata": {},
     "output_type": "execute_result"
    }
   ],
   "source": [
    "# Let's see it run!\n",
    "my_sum([1,2,3,4,5,6,7,8,9,10])"
   ]
  },
  {
   "cell_type": "markdown",
   "metadata": {},
   "source": [
    "Now that we've seen how to implement this function with a for loop, let think about how we can do this same task with recursion.\n",
    "\n",
    "Remember, we want to breakdown the problem into smaller sub-problems, until we finally reach the base case. So how else can we think about summing a list? \n",
    "\n",
    "Using our example list of [1,2,3,4,5,6,7,8,9,10] we could break down the problem into two sub problems:\n",
    "The sum of [1,2] plus the sum of the rest [3,4,5,6,7,8,9,10]. We can recursively call this function to add those first two number (1+2) then grab the next number (3) plus the rest [4,5,6,7,8,9,10]. We can continue doing this until we've broken down the problem completely. Notice here that our base case is when the length of the remaining list is equal to 1.\n",
    "\n",
    "To get a better idea of the overall scheme, let's go ahead and implement this function!"
   ]
  },
  {
   "cell_type": "code",
   "execution_count": 3,
   "metadata": {
    "collapsed": true
   },
   "outputs": [],
   "source": [
    "def recurse_sum(num_list):\n",
    "    # First define the base case!\n",
    "    if len(num_list) == 1:\n",
    "        # Return the first item in the list\n",
    "        # This will be the last remaining sum of the list of length 1\n",
    "        return num_list[0]\n",
    "    else:\n",
    "        # Otherwise we grab the first number and add the rest of the list to it. Note the recursive function call!\n",
    "        return num_list[0]+recurse_sum(num_list[1:])\n"
   ]
  },
  {
   "cell_type": "markdown",
   "metadata": {},
   "source": [
    "Let's see if it worked!"
   ]
  },
  {
   "cell_type": "code",
   "execution_count": 4,
   "metadata": {
    "collapsed": false
   },
   "outputs": [
    {
     "data": {
      "text/plain": [
       "55"
      ]
     },
     "execution_count": 4,
     "metadata": {},
     "output_type": "execute_result"
    }
   ],
   "source": [
    "# Try it out!\n",
    "recurse_sum([1,2,3,4,5,6,7,8,9,10])"
   ]
  },
  {
   "cell_type": "markdown",
   "metadata": {},
   "source": [
    "Great! It worked! Let's break down what our recursive function is doing one more time!\n",
    "We'll use the example of a list of 4 digits: [1,2,3,4] and break down the steps:\n",
    "\n",
    "**Step 1:**\n",
    "\n",
    "Check for base case. Otherwise, Grab list[0] (which is 1) and add the rest of the list to it by calling the function again. \n",
    "\n",
    "Current sum = 1.\n",
    "\n",
    "**Step 2:**\n",
    "\n",
    "Check for base case. Otherwise, Grab list[0] again (which is now 2) and add the rest of the list with the functin call again. \n",
    "\n",
    "Current sum = 3.\n",
    "\n",
    "**Step 3:**\n",
    "\n",
    "Check for base case. Otherwise, Grab list[0] again (which is now 3) and add the rest of the list with the function call again. \n",
    "\n",
    "Current sum = 6.\n",
    "\n",
    "**Step 4:**\n",
    "\n",
    "Check for base case. Since we are now at len(list) == 1, we return list[0] ( which at the end is 4) with no additional list. So we then have our recursive function returning 4, so we have 6 + 4 = 10. \n",
    "\n",
    "So final sum is 10."
   ]
  },
  {
   "cell_type": "markdown",
   "metadata": {},
   "source": [
    "## Rules of recursion\n",
    "\n",
    "Remember, there are 3 basic rules that any recursive function/algorithm must follow:\n",
    "\n",
    "* The recursive function/algorithm needs to have a base case.\n",
    "* The recursive function/algorithm needs to update its state and continue towards the base case.\n",
    "* The recursive funciton/algorithm has to call itself (recursively)."
   ]
  },
  {
   "cell_type": "code",
   "execution_count": null,
   "metadata": {
    "collapsed": true
   },
   "outputs": [],
   "source": []
  }
 ],
 "metadata": {
  "kernelspec": {
   "display_name": "Python 2",
   "language": "python",
   "name": "python2"
  },
  "language_info": {
   "codemirror_mode": {
    "name": "ipython",
    "version": 2
   },
   "file_extension": ".py",
   "mimetype": "text/x-python",
   "name": "python",
   "nbconvert_exporter": "python",
   "pygments_lexer": "ipython2",
   "version": "2.7.7"
  }
 },
 "nbformat": 4,
 "nbformat_minor": 0
}
