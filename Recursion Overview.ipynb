{
 "cells": [
  {
   "cell_type": "markdown",
   "metadata": {},
   "source": [
    "# Recursion\n",
    "\n",
    "In this lecture we will go over an overview of recursion, by the end of this lecture we will have covered the following:\n",
    "\n",
    "Understanding what recursion is\n",
    "How to implement recursion\n",
    "Comprehend the 3 rules of recursion\n"
   ]
  },
  {
   "cell_type": "markdown",
   "metadata": {},
   "source": [
    "## Definition of Recursion\n",
    "\n",
    "**Recursion** allows us to solve problems by reducing down a problem into a simpler version of the problem again and again until you reduce the problem to amuch simpler case. This final reduction is called the *base case*.\n",
    "\n",
    "This strategy is usually implemented by having a function that calls itself. **Recursion** allows solutions to problems that would be difficult to solve through normal methods.\n",
    "\n",
    "The best way to get a grasp of recursion is to look at some classic examples. here we will explore three example problems of recursion: Summing a list, Calculating Factorials, and calculating a Fibonacci Sequence."
   ]
  },
  {
   "cell_type": "markdown",
   "metadata": {},
   "source": [
    "### Example 1: Recursion to Sum a List\n",
    "\n",
    "Imagine we needt to take the sum of a list of numbers: [1,2,3,4,5,6,7,8,9,10]. How would you write a function to do this? In the most basic function, we could write a for loop to iterate over every item of that list and add it to a running sum. For example:"
   ]
  },
  {
   "cell_type": "code",
   "execution_count": 1,
   "metadata": {
    "collapsed": true
   },
   "outputs": [],
   "source": [
    "def my_sum(num_list):\n",
    "    '''Takes in list of numbers, outputs sum of the numbers in list'''\n",
    "    # Start sum at zero\n",
    "    output_sum = 0\n",
    "    \n",
    "    # Iterate over list\n",
    "    for num in num_list:\n",
    "        output_sum = output_sum + num\n",
    "    \n",
    "    return output_sum"
   ]
  },
  {
   "cell_type": "code",
   "execution_count": 3,
   "metadata": {
    "collapsed": false
   },
   "outputs": [
    {
     "data": {
      "text/plain": [
       "55"
      ]
     },
     "execution_count": 3,
     "metadata": {},
     "output_type": "execute_result"
    }
   ],
   "source": [
    "# Let's see it run!\n",
    "my_sum([1,2,3,4,5,6,7,8,9,10])"
   ]
  },
  {
   "cell_type": "markdown",
   "metadata": {},
   "source": [
    "Now that we've seen how to implement this function with a for loop, let think about how we can do this same task with recursion.\n",
    "\n",
    "Remeber, we want to breakdown the problem into smaller sub-problems, until we finally reach the base case. So how elese can we think about summing a list? \n",
    "\n",
    "Using our example list of [1,2,3,4,5,6,7,8,9,10] we could break down the problem into two sub problems:\n",
    "The sum of [1,2] plus the sum of the rest [3,4,5"
   ]
  }
 ],
 "metadata": {
  "kernelspec": {
   "display_name": "Python 2",
   "language": "python",
   "name": "python2"
  },
  "language_info": {
   "codemirror_mode": {
    "name": "ipython",
    "version": 2
   },
   "file_extension": ".py",
   "mimetype": "text/x-python",
   "name": "python",
   "nbconvert_exporter": "python",
   "pygments_lexer": "ipython2",
   "version": "2.7.10"
  }
 },
 "nbformat": 4,
 "nbformat_minor": 0
}
